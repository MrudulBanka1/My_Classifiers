{
 "cells": [
  {
   "cell_type": "code",
   "execution_count": 47,
   "metadata": {},
   "outputs": [],
   "source": [
    "#Writing KNN classifier\n",
    "import random\n",
    "from scipy.spatial import distance\n",
    "\n",
    "def euc(a,b):\n",
    "    return distance.euclidean(a,b)\n",
    "\n",
    "class scrappyknn():\n",
    "    def fit(self, X_train, y_train):\n",
    "        self.X_train = X_train\n",
    "        self.y_train = y_train\n",
    "    \n",
    "    def predict(self,X_test):\n",
    "        pred = []\n",
    "        for row in X_test:\n",
    "            #label = random.choice(self.y_train)\n",
    "            label = self.closest(row) #k=1\n",
    "            pred.append(label)\n",
    "        return pred\n",
    "    \n",
    "    def closest(self, row):\n",
    "        best_distance = euc(row, self.X_train[0])\n",
    "        best_index = 0\n",
    "        for i in range(1, len(self.X_train)):\n",
    "            dist = euc(row, self.X_train[i])\n",
    "            if dist < best_distance:\n",
    "                best_distance = dist\n",
    "                best_index = i\n",
    "        return self.y_train[best_index]"
   ]
  },
  {
   "cell_type": "code",
   "execution_count": 48,
   "metadata": {},
   "outputs": [
    {
     "name": "stdout",
     "output_type": "stream",
     "text": [
      "['sepal length (cm)', 'sepal width (cm)', 'petal length (cm)', 'petal width (cm)']\n",
      "['setosa' 'versicolor' 'virginica']\n",
      "[5.1 3.5 1.4 0.2]\n",
      "0\n"
     ]
    }
   ],
   "source": [
    "from sklearn.datasets import load_iris\n",
    "import numpy as np\n",
    "from sklearn import tree\n",
    "\n",
    "iris =load_iris()\n",
    "print(iris.feature_names)\n",
    "print(iris.target_names)\n",
    "print(iris.data[0])\n",
    "print(iris.target[0])"
   ]
  },
  {
   "cell_type": "code",
   "execution_count": 49,
   "metadata": {},
   "outputs": [],
   "source": [
    "X= iris.data\n",
    "y = iris.target"
   ]
  },
  {
   "cell_type": "code",
   "execution_count": 50,
   "metadata": {},
   "outputs": [
    {
     "name": "stdout",
     "output_type": "stream",
     "text": [
      "[[5.7 3.8 1.7 0.3]\n",
      " [5.2 3.4 1.4 0.2]\n",
      " [6.9 3.2 5.7 2.3]\n",
      " [6.6 2.9 4.6 1.3]\n",
      " [4.5 2.3 1.3 0.3]\n",
      " [5.5 2.4 3.7 1. ]\n",
      " [5.  3.4 1.6 0.4]\n",
      " [5.1 3.8 1.9 0.4]\n",
      " [5.1 3.4 1.5 0.2]\n",
      " [5.6 2.7 4.2 1.3]\n",
      " [4.6 3.2 1.4 0.2]\n",
      " [6.9 3.1 4.9 1.5]\n",
      " [7.1 3.  5.9 2.1]\n",
      " [5.4 3.  4.5 1.5]\n",
      " [5.9 3.  5.1 1.8]\n",
      " [5.4 3.7 1.5 0.2]\n",
      " [6.4 2.8 5.6 2.1]\n",
      " [6.2 3.4 5.4 2.3]\n",
      " [4.8 3.4 1.6 0.2]\n",
      " [6.8 3.  5.5 2.1]\n",
      " [6.1 2.9 4.7 1.4]\n",
      " [5.  3.5 1.6 0.6]\n",
      " [6.1 3.  4.6 1.4]\n",
      " [6.3 2.5 4.9 1.5]\n",
      " [6.3 2.5 5.  1.9]\n",
      " [5.1 3.3 1.7 0.5]\n",
      " [6.4 2.9 4.3 1.3]\n",
      " [5.7 3.  4.2 1.2]\n",
      " [5.7 2.8 4.1 1.3]\n",
      " [5.7 4.4 1.5 0.4]\n",
      " [6.7 3.3 5.7 2.5]\n",
      " [5.4 3.4 1.5 0.4]\n",
      " [4.6 3.4 1.4 0.3]\n",
      " [5.6 2.8 4.9 2. ]\n",
      " [5.  3.5 1.3 0.3]\n",
      " [5.  3.  1.6 0.2]\n",
      " [5.5 2.4 3.8 1.1]\n",
      " [6.1 2.8 4.7 1.2]\n",
      " [5.8 2.8 5.1 2.4]\n",
      " [5.5 3.5 1.3 0.2]\n",
      " [4.3 3.  1.1 0.1]\n",
      " [4.6 3.6 1.  0.2]\n",
      " [4.8 3.1 1.6 0.2]\n",
      " [6.1 2.8 4.  1.3]\n",
      " [5.8 2.7 5.1 1.9]\n",
      " [5.  3.2 1.2 0.2]\n",
      " [4.7 3.2 1.3 0.2]\n",
      " [5.7 2.8 4.5 1.3]\n",
      " [4.8 3.4 1.9 0.2]\n",
      " [5.6 3.  4.1 1.3]\n",
      " [5.3 3.7 1.5 0.2]\n",
      " [6.7 3.1 4.4 1.4]\n",
      " [5.7 2.6 3.5 1. ]\n",
      " [6.  2.2 5.  1.5]\n",
      " [6.3 3.3 4.7 1.6]\n",
      " [5.9 3.2 4.8 1.8]\n",
      " [6.7 3.  5.2 2.3]\n",
      " [5.5 2.6 4.4 1.2]\n",
      " [6.7 3.  5.  1.7]\n",
      " [5.  3.6 1.4 0.2]\n",
      " [6.  3.  4.8 1.8]\n",
      " [6.5 3.  5.2 2. ]\n",
      " [5.7 2.9 4.2 1.3]\n",
      " [6.7 2.5 5.8 1.8]\n",
      " [4.8 3.  1.4 0.3]\n",
      " [6.5 3.2 5.1 2. ]\n",
      " [6.9 3.1 5.4 2.1]\n",
      " [6.3 2.3 4.4 1.3]\n",
      " [6.2 2.9 4.3 1.3]\n",
      " [4.6 3.1 1.5 0.2]\n",
      " [7.4 2.8 6.1 1.9]\n",
      " [6.7 3.3 5.7 2.1]\n",
      " [5.4 3.9 1.3 0.4]\n",
      " [6.4 3.2 5.3 2.3]\n",
      " [6.  3.4 4.5 1.6]]\n"
     ]
    }
   ],
   "source": [
    "from sklearn.cross_validation import train_test_split\n",
    "X_train, X_test, y_train, y_test = train_test_split(X,y, test_size = 0.5)\n",
    "print(X_test)"
   ]
  },
  {
   "cell_type": "code",
   "execution_count": 51,
   "metadata": {},
   "outputs": [
    {
     "name": "stdout",
     "output_type": "stream",
     "text": [
      "<__main__.scrappyknn object at 0x000002D617AE0C18>\n"
     ]
    }
   ],
   "source": [
    "#Training decsison tree\n",
    "clf = scrappyknn()\n",
    "clf.fit(X_train, y_train)\n",
    "print(clf)"
   ]
  },
  {
   "cell_type": "code",
   "execution_count": 52,
   "metadata": {},
   "outputs": [
    {
     "name": "stdout",
     "output_type": "stream",
     "text": [
      "[0, 0, 2, 1, 0, 1, 0, 0, 0, 1, 0, 1, 2, 1, 2, 0, 2, 2, 0, 2, 1, 0, 1, 2, 2, 0, 1, 1, 1, 0, 2, 0, 0, 2, 0, 0, 1, 1, 2, 0, 0, 0, 0, 1, 2, 0, 0, 1, 0, 1, 0, 1, 1, 1, 1, 2, 2, 1, 1, 0, 2, 2, 1, 2, 0, 2, 2, 1, 1, 0, 2, 2, 0, 2, 1]\n"
     ]
    }
   ],
   "source": [
    "predictions = clf.predict(X_test)\n",
    "print(predictions)"
   ]
  },
  {
   "cell_type": "code",
   "execution_count": 53,
   "metadata": {},
   "outputs": [
    {
     "name": "stdout",
     "output_type": "stream",
     "text": [
      "0.96\n"
     ]
    }
   ],
   "source": [
    "from sklearn.metrics import accuracy_score\n",
    "print(accuracy_score(y_test, predictions))"
   ]
  },
  {
   "cell_type": "code",
   "execution_count": null,
   "metadata": {},
   "outputs": [],
   "source": []
  }
 ],
 "metadata": {
  "kernelspec": {
   "display_name": "Python 3",
   "language": "python",
   "name": "python3"
  },
  "language_info": {
   "codemirror_mode": {
    "name": "ipython",
    "version": 3
   },
   "file_extension": ".py",
   "mimetype": "text/x-python",
   "name": "python",
   "nbconvert_exporter": "python",
   "pygments_lexer": "ipython3",
   "version": "3.6.8"
  }
 },
 "nbformat": 4,
 "nbformat_minor": 2
}
